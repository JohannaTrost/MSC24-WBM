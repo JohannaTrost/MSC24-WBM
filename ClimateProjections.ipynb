{
 "cells": [
  {
   "cell_type": "markdown",
   "metadata": {},
   "source": [
    "## To do:\n",
    "* monthly mean vs daily\n",
    "* detrend data compare\n",
    "* remove offset from climate projections\n",
    "* check resolution\n"
   ]
  },
  {
   "cell_type": "code",
   "execution_count": null,
   "metadata": {},
   "outputs": [],
   "source": []
  }
 ],
 "metadata": {
  "language_info": {
   "name": "python"
  }
 },
 "nbformat": 4,
 "nbformat_minor": 2
}
