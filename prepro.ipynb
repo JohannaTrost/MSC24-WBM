{
 "cells": [
  {
   "cell_type": "code",
   "execution_count": 29,
   "metadata": {},
   "outputs": [],
   "source": [
    "import os\n",
    "import pandas as pd\n",
    "import numpy as np\n",
    "import matplotlib.pyplot as plt\n",
    "import netCDF4 as nc\n",
    "from datetime import datetime \n",
    "from tqdm import tqdm"
   ]
  },
  {
   "cell_type": "code",
   "execution_count": 30,
   "metadata": {},
   "outputs": [
    {
     "name": "stderr",
     "output_type": "stream",
     "text": [
      "100%|██████████| 23/23 [09:09<00:00, 23.90s/it]\n"
     ]
    },
    {
     "data": {
      "text/html": [
       "<div>\n",
       "<style scoped>\n",
       "    .dataframe tbody tr th:only-of-type {\n",
       "        vertical-align: middle;\n",
       "    }\n",
       "\n",
       "    .dataframe tbody tr th {\n",
       "        vertical-align: top;\n",
       "    }\n",
       "\n",
       "    .dataframe thead th {\n",
       "        text-align: right;\n",
       "    }\n",
       "</style>\n",
       "<table border=\"1\" class=\"dataframe\">\n",
       "  <thead>\n",
       "    <tr style=\"text-align: right;\">\n",
       "      <th></th>\n",
       "      <th>date</th>\n",
       "      <th>lat</th>\n",
       "      <th>lon</th>\n",
       "      <th>tp</th>\n",
       "    </tr>\n",
       "  </thead>\n",
       "  <tbody>\n",
       "    <tr>\n",
       "      <th>0</th>\n",
       "      <td>2000-01-01</td>\n",
       "      <td>55.25</td>\n",
       "      <td>4.75</td>\n",
       "      <td>0.0034648182336241007</td>\n",
       "    </tr>\n",
       "    <tr>\n",
       "      <th>1</th>\n",
       "      <td>2000-01-01</td>\n",
       "      <td>55.25</td>\n",
       "      <td>5.25</td>\n",
       "      <td>0.0035250188084319234</td>\n",
       "    </tr>\n",
       "    <tr>\n",
       "      <th>2</th>\n",
       "      <td>2000-01-01</td>\n",
       "      <td>55.25</td>\n",
       "      <td>5.75</td>\n",
       "      <td>0.003562331199645996</td>\n",
       "    </tr>\n",
       "    <tr>\n",
       "      <th>3</th>\n",
       "      <td>2000-01-01</td>\n",
       "      <td>55.25</td>\n",
       "      <td>6.25</td>\n",
       "      <td>0.0038031338481232524</td>\n",
       "    </tr>\n",
       "    <tr>\n",
       "      <th>4</th>\n",
       "      <td>2000-01-01</td>\n",
       "      <td>55.25</td>\n",
       "      <td>6.75</td>\n",
       "      <td>0.00407540809828788</td>\n",
       "    </tr>\n",
       "  </tbody>\n",
       "</table>\n",
       "</div>"
      ],
      "text/plain": [
       "        date    lat   lon                     tp\n",
       "0 2000-01-01  55.25  4.75  0.0034648182336241007\n",
       "1 2000-01-01  55.25  5.25  0.0035250188084319234\n",
       "2 2000-01-01  55.25  5.75   0.003562331199645996\n",
       "3 2000-01-01  55.25  6.25  0.0038031338481232524\n",
       "4 2000-01-01  55.25  6.75    0.00407540809828788"
      ]
     },
     "execution_count": 30,
     "metadata": {},
     "output_type": "execute_result"
    }
   ],
   "source": [
    "years = np.arange(2000, 2023, 1)\n",
    "\n",
    "# Flatten the data\n",
    "data = []\n",
    "\n",
    "for year in tqdm(years):\n",
    "\n",
    "    file_path = 'data/total_precipitation/tp.daily.calc.era5.0d50_CentralEurope.' + str(year) + '.nc'\n",
    "\n",
    "    nc_file = nc.Dataset(file_path)\n",
    "    lon = nc_file.variables['lon'][:]\n",
    "    lat = nc_file.variables['lat'][:]\n",
    "    dates = nc_file.variables['time'][:]\n",
    "\n",
    "    for i, date in enumerate(dates):\n",
    "        for j in range(len(lat)):\n",
    "            for k in range(len(lon)):\n",
    "                tp = nc_file.variables['tp'][i, j, k]\n",
    "                # Convert day of the year to a timestamp\n",
    "                year_start = datetime(year, 1, 1)\n",
    "                timestamp = year_start + pd.Timedelta(days=int(date))\n",
    "                data.append([timestamp, lat[j], lon[k], tp])\n",
    "\n",
    "    nc_file.close()"
   ]
  },
  {
   "cell_type": "code",
   "execution_count": 61,
   "metadata": {},
   "outputs": [
    {
     "data": {
      "text/html": [
       "<div>\n",
       "<style scoped>\n",
       "    .dataframe tbody tr th:only-of-type {\n",
       "        vertical-align: middle;\n",
       "    }\n",
       "\n",
       "    .dataframe tbody tr th {\n",
       "        vertical-align: top;\n",
       "    }\n",
       "\n",
       "    .dataframe thead th {\n",
       "        text-align: right;\n",
       "    }\n",
       "</style>\n",
       "<table border=\"1\" class=\"dataframe\">\n",
       "  <thead>\n",
       "    <tr style=\"text-align: right;\">\n",
       "      <th></th>\n",
       "      <th>date</th>\n",
       "      <th>lat</th>\n",
       "      <th>lon</th>\n",
       "      <th>tp</th>\n",
       "    </tr>\n",
       "  </thead>\n",
       "  <tbody>\n",
       "    <tr>\n",
       "      <th>0</th>\n",
       "      <td>2000-01-01</td>\n",
       "      <td>55.25</td>\n",
       "      <td>4.75</td>\n",
       "      <td>0.003465</td>\n",
       "    </tr>\n",
       "    <tr>\n",
       "      <th>1</th>\n",
       "      <td>2000-01-01</td>\n",
       "      <td>55.25</td>\n",
       "      <td>5.25</td>\n",
       "      <td>0.003525</td>\n",
       "    </tr>\n",
       "    <tr>\n",
       "      <th>2</th>\n",
       "      <td>2000-01-01</td>\n",
       "      <td>55.25</td>\n",
       "      <td>5.75</td>\n",
       "      <td>0.003562</td>\n",
       "    </tr>\n",
       "    <tr>\n",
       "      <th>3</th>\n",
       "      <td>2000-01-01</td>\n",
       "      <td>55.25</td>\n",
       "      <td>6.25</td>\n",
       "      <td>0.003803</td>\n",
       "    </tr>\n",
       "    <tr>\n",
       "      <th>4</th>\n",
       "      <td>2000-01-01</td>\n",
       "      <td>55.25</td>\n",
       "      <td>6.75</td>\n",
       "      <td>0.004075</td>\n",
       "    </tr>\n",
       "  </tbody>\n",
       "</table>\n",
       "</div>"
      ],
      "text/plain": [
       "        date    lat   lon        tp\n",
       "0 2000-01-01  55.25  4.75  0.003465\n",
       "1 2000-01-01  55.25  5.25  0.003525\n",
       "2 2000-01-01  55.25  5.75  0.003562\n",
       "3 2000-01-01  55.25  6.25  0.003803\n",
       "4 2000-01-01  55.25  6.75  0.004075"
      ]
     },
     "execution_count": 61,
     "metadata": {},
     "output_type": "execute_result"
    }
   ],
   "source": [
    "# Create DataFrame\n",
    "precip_df = pd.DataFrame(data, columns=['date', 'lat', 'lon', 'tp'])\n",
    "\n",
    "precip_df['tp'] = np.round([d_year[-1].item() for d_year in data], 10)\n",
    "\n",
    "precip_df.head()"
   ]
  },
  {
   "cell_type": "code",
   "execution_count": 62,
   "metadata": {},
   "outputs": [
    {
     "name": "stdout",
     "output_type": "stream",
     "text": [
      "DataFrame from 2000 to 2011:\n",
      "        date    lat   lon        tp\n",
      "0 2000-01-01  55.25  4.75  0.003465\n",
      "1 2000-01-01  55.25  5.25  0.003525\n",
      "2 2000-01-01  55.25  5.75  0.003562\n",
      "3 2000-01-01  55.25  6.25  0.003803\n",
      "4 2000-01-01  55.25  6.75  0.004075\n",
      "\n",
      "DataFrame from 2012 to 2023:\n",
      "              date    lat   lon        tp\n",
      "2121372 2012-01-01  55.25  4.75  0.003736\n",
      "2121373 2012-01-01  55.25  5.25  0.003970\n",
      "2121374 2012-01-01  55.25  5.75  0.004397\n",
      "2121375 2012-01-01  55.25  6.25  0.005269\n",
      "2121376 2012-01-01  55.25  6.75  0.006495\n"
     ]
    }
   ],
   "source": [
    "# Split df for saving \n",
    "\n",
    "df_2000_to_2011 = precip_df[(precip_df['date'].dt.year >= 2000) & (precip_df['date'].dt.year <= 2011)]\n",
    "df_2012_to_2023 = precip_df[(precip_df['date'].dt.year >= 2012) & (precip_df['date'].dt.year <= 2023)]\n",
    "\n",
    "# Print the first few rows of each DataFrame to verify\n",
    "print(\"DataFrame from 2000 to 2011:\")\n",
    "print(df_2000_to_2011.head())\n",
    "\n",
    "print(\"\\nDataFrame from 2012 to 2023:\")\n",
    "print(df_2012_to_2023.head())\n",
    "\n",
    "df_2000_to_2011.to_csv('data/total_precipitation/precip_2000_2011.csv', index=False)\n",
    "df_2012_to_2023.to_csv('data/total_precipitation/precip_2012_2023.csv', index=False)"
   ]
  },
  {
   "cell_type": "code",
   "execution_count": 20,
   "metadata": {},
   "outputs": [
    {
     "data": {
      "text/plain": [
       "485.32602739726025"
      ]
     },
     "execution_count": 20,
     "metadata": {},
     "output_type": "execute_result"
    }
   ],
   "source": [
    "lats = [53.25]\n",
    "longs = [10.75]"
   ]
  }
 ],
 "metadata": {
  "kernelspec": {
   "display_name": "Python 3 (ipykernel)",
   "language": "python",
   "name": "python3"
  },
  "language_info": {
   "codemirror_mode": {
    "name": "ipython",
    "version": 3
   },
   "file_extension": ".py",
   "mimetype": "text/x-python",
   "name": "python",
   "nbconvert_exporter": "python",
   "pygments_lexer": "ipython3",
   "version": "3.11.4"
  }
 },
 "nbformat": 4,
 "nbformat_minor": 2
}
