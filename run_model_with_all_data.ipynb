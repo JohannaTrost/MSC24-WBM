{
 "cells": [
  {
   "cell_type": "code",
   "execution_count": 1,
   "metadata": {},
   "outputs": [],
   "source": [
    "# Import libraries\n",
    "from matplotlib import pyplot as plt\n",
    "import numpy as np\n",
    "import netCDF4 as nc\n",
    "import pandas as pd\n",
    "import xarray as xr\n",
    "import run"
   ]
  },
  {
   "cell_type": "code",
   "execution_count": 2,
   "metadata": {},
   "outputs": [],
   "source": [
    "# Read in forcing data\n",
    "years = np.arange(2000, 2024, 1)\n",
    "P_data = []\n",
    "R_data = []\n",
    "T_data = []\n",
    "lai_data = []\n",
    "calibration_time = [2000, 2010]\n",
    "\n",
    "for year in years:\n",
    "    file_path = 'data/total_precipitation/tp.daily.calc.era5.0d50_CentralEurope.' + str(year) + '.nc'\n",
    "    P_data.append(xr.open_dataset(file_path)['tp'])\n",
    "\n",
    "    file_path = 'data/net_radiation/nr.daily.calc.era5.0d50_CentralEurope.' + str(year) + '.nc'\n",
    "    R_data.append(xr.open_dataset(file_path)['nr'])\n",
    "\n",
    "    file_path = 'data/daily_average_temperature/t2m_mean.daily.calc.era5.0d50_CentralEurope.' + str(year) + '.nc'\n",
    "    T_data.append(xr.open_dataset(file_path)['t2m'])\n",
    "\n",
    "    file_path = 'data/lai/lai.daily.0d50_CentralEurope.' + str(year) + '.nc'\n",
    "    lai_data.append(xr.open_dataset(file_path)['lai'])\n"
   ]
  },
  {
   "cell_type": "code",
   "execution_count": 3,
   "metadata": {},
   "outputs": [],
   "source": [
    "# Convert lists to xarray datasets\n",
    "P_data = xr.concat(P_data, dim='time')\n",
    "R_data = xr.concat(R_data, dim='time')\n",
    "T_data = xr.concat(T_data, dim='time')\n",
    "lai_data = xr.concat(lai_data, dim='time')"
   ]
  },
  {
   "cell_type": "code",
   "execution_count": 4,
   "metadata": {},
   "outputs": [],
   "source": [
    "# Fill LAI with zeros were Na :D (wrong)\n",
    "lai_data = lai_data.fillna(0)"
   ]
  },
  {
   "cell_type": "code",
   "execution_count": 7,
   "metadata": {},
   "outputs": [
    {
     "name": "stdout",
     "output_type": "stream",
     "text": [
      "one done\n"
     ]
    }
   ],
   "source": [
    "# Run model for all gridcells 1:30 min for one cell... there are 484 cells\n",
    "\n",
    "# Paramters\n",
    "cs = 420 \n",
    "alpha = 8 \n",
    "gamma = 0.2 \n",
    "beta = 0.8\n",
    "cm = 1.5 \n",
    "et_weight = (0.75, 0.25)\n",
    "\n",
    "# Create empty arrays to store the output data\n",
    "snow = np.zeros_like(P_data)\n",
    "soil_moisture = np.zeros_like(P_data)\n",
    "evapotranspiration = np.zeros_like(P_data)\n",
    "\n",
    "# Iteerate through gridcels\n",
    "for lat in range(len(P_data.lat)):\n",
    "    for lon in range(len(P_data.lon)):\n",
    "        \n",
    "        if np.isnan(lai_data[:, lat, lon]).any():\n",
    "            print(\"Na found in gridcell\", lat, lon)\n",
    "            continue\n",
    "\n",
    "        R_data_grid = R_data[:, lat, lon]\n",
    "        P_data_grid = P_data[:, lat, lon]\n",
    "        T_data_grid = T_data[:, lat, lon]\n",
    "        lai_data_grid = lai_data[:, lat, lon]\n",
    "\n",
    "        # Run Model for daily values\n",
    "        daily_output = run.time_evolution(P_data_grid, R_data_grid, T_data_grid, lai_data_grid, cs, alpha,\n",
    "        gamma, beta, cm, et_weight)\n",
    "\n",
    "        snow[:, lat, lon] = daily_output['snow'].values\n",
    "        soil_moisture[:, lat, lon] = daily_output['calculated_soil_moisture'].values\n",
    "        evapotranspiration[:, lat, lon] = daily_output['evapotranspiration'].values\n",
    "        print(\"one done\")\n",
    "        break\n",
    "    break"
   ]
  },
  {
   "cell_type": "code",
   "execution_count": null,
   "metadata": {},
   "outputs": [],
   "source": [
    "# Convert arrays to xarrays with corresponding latitudes and longitudes\n",
    "snow_xr = xr.DataArray(snow, dims=('time', 'lat', 'lon'), coords={'time': P_data.time, 'lat': P_data.lat, 'lon': P_data.lon})\n",
    "soil_moisture_xr = xr.DataArray(soil_moisture, dims=('time', 'lat', 'lon'), coords={'time': P_data.time, 'lat': P_data.lat, 'lon': P_data.lon})\n",
    "evapotranspiration_xr = xr.DataArray(evapotranspiration, dims=('time', 'lat', 'lon'), coords={'time': P_data.time, 'lat': P_data.lat, 'lon': P_data.lon})"
   ]
  }
 ],
 "metadata": {
  "kernelspec": {
   "display_name": "esm",
   "language": "python",
   "name": "python3"
  },
  "language_info": {
   "codemirror_mode": {
    "name": "ipython",
    "version": 3
   },
   "file_extension": ".py",
   "mimetype": "text/x-python",
   "name": "python",
   "nbconvert_exporter": "python",
   "pygments_lexer": "ipython3",
   "version": "3.11.7"
  }
 },
 "nbformat": 4,
 "nbformat_minor": 2
}
